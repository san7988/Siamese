{
 "cells": [
  {
   "cell_type": "markdown",
   "metadata": {},
   "source": [
    "# One Shot Learning with Siamese Networks\n",
    "\n",
    "This is the jupyter notebook that accompanies"
   ]
  },
  {
   "cell_type": "markdown",
   "metadata": {},
   "source": [
    "## Imports\n",
    "All the imports are defined here"
   ]
  },
  {
   "cell_type": "code",
   "execution_count": 1,
   "metadata": {},
   "outputs": [],
   "source": [
    "%matplotlib inline\n",
    "import torchvision\n",
    "import torchvision.datasets as dset\n",
    "import torchvision.transforms as transforms\n",
    "from torch.utils.data import DataLoader,Dataset\n",
    "import matplotlib.pyplot as plt\n",
    "import torchvision.utils\n",
    "import numpy as np\n",
    "import random\n",
    "from PIL import Image\n",
    "import torch\n",
    "from torch.autograd import Variable\n",
    "import PIL.ImageOps    \n",
    "import torch.nn as nn\n",
    "from torch import optim\n",
    "import torch.nn.functional as F"
   ]
  },
  {
   "cell_type": "markdown",
   "metadata": {},
   "source": [
    "## Helper functions\n",
    "Set of helper functions"
   ]
  },
  {
   "cell_type": "code",
   "execution_count": 2,
   "metadata": {
    "pixiedust": {
     "displayParams": {}
    }
   },
   "outputs": [],
   "source": [
    "\n",
    "def imshow(img,text=None,should_save=False):\n",
    "    npimg = img.numpy()\n",
    "    plt.axis(\"off\")\n",
    "    if text:\n",
    "        plt.text(75, 8, text, style='italic',fontweight='bold',\n",
    "            bbox={'facecolor':'white', 'alpha':0.8, 'pad':10})\n",
    "    plt.imshow(np.transpose(npimg, (1, 2, 0)))\n",
    "    plt.show()    \n",
    "\n",
    "def show_plot(iteration,loss):\n",
    "    plt.plot(iteration,loss)\n",
    "    plt.show()"
   ]
  },
  {
   "cell_type": "markdown",
   "metadata": {},
   "source": [
    "## Configuration Class\n",
    "A simple class to manage configuration"
   ]
  },
  {
   "cell_type": "code",
   "execution_count": 3,
   "metadata": {},
   "outputs": [
    {
     "data": {
      "text/plain": [
       "'GeForce GTX 1080'"
      ]
     },
     "execution_count": 3,
     "metadata": {},
     "output_type": "execute_result"
    }
   ],
   "source": [
    "torch.cuda.get_device_name(0)"
   ]
  },
  {
   "cell_type": "code",
   "execution_count": 4,
   "metadata": {},
   "outputs": [],
   "source": [
    "class Config():\n",
    "    training_dir = \"data/train/\"\n",
    "    testing_dir = \"data/test/\"\n",
    "    train_batch_size = 16\n",
    "    train_number_epochs = 50"
   ]
  },
  {
   "cell_type": "markdown",
   "metadata": {},
   "source": [
    "## Custom Dataset Class\n",
    "This dataset generates a pair of images. 0 for geniune pair and 1 for imposter pair"
   ]
  },
  {
   "cell_type": "code",
   "execution_count": 5,
   "metadata": {},
   "outputs": [],
   "source": [
    "class SiameseNetworkDataset(Dataset):\n",
    "    \n",
    "    def __init__(self,imageFolderDataset,transform=None,should_invert=True, is_test=False,pick_similar_samples=True):\n",
    "        self.imageFolderDataset = imageFolderDataset    \n",
    "        self.transform = transform\n",
    "        self.should_invert = should_invert\n",
    "        self.is_test = is_test\n",
    "        self.pick_similar_samples = pick_similar_samples\n",
    "        \n",
    "    def __getitem__(self,index):\n",
    "        img0_tuple = random.choice(self.imageFolderDataset.imgs)\n",
    "        #we need to make sure approx 50% of images are in the same class\n",
    "        if not self.is_test:\n",
    "            should_get_same_class = random.randint(0,1)\n",
    "        else:\n",
    "            if self.pick_similar_samples : should_get_same_class = 1\n",
    "            else: should_get_same_class = 0\n",
    "            \n",
    "        if should_get_same_class:\n",
    "            while True:\n",
    "                #keep looping till the same class image is found\n",
    "                img1_tuple = random.choice(self.imageFolderDataset.imgs) \n",
    "                if img0_tuple[1]==img1_tuple[1]:\n",
    "                    break\n",
    "        else:\n",
    "            while True:\n",
    "                #keep looping till a different class image is found\n",
    "                \n",
    "                img1_tuple = random.choice(self.imageFolderDataset.imgs) \n",
    "                if img0_tuple[1] !=img1_tuple[1]:\n",
    "                    break\n",
    "\n",
    "        img0 = Image.open(img0_tuple[0])\n",
    "        img1 = Image.open(img1_tuple[0])\n",
    "        img0 = img0.convert(\"L\")\n",
    "        img1 = img1.convert(\"L\")\n",
    "        \n",
    "        if self.should_invert:\n",
    "            img0 = PIL.ImageOps.invert(img0)\n",
    "            img1 = PIL.ImageOps.invert(img1)\n",
    "\n",
    "        if self.transform is not None:\n",
    "            img0 = self.transform(img0)\n",
    "            img1 = self.transform(img1)\n",
    "        print(\"ïmg 0 shape: {0}\".format(img0.shape))\n",
    "        return img0, img1 , torch.from_numpy(np.array([int(img1_tuple[1]!=img0_tuple[1])],dtype=np.float32))\n",
    "    \n",
    "    def __len__(self):\n",
    "        return len(self.imageFolderDataset.imgs)"
   ]
  },
  {
   "cell_type": "code",
   "execution_count": null,
   "metadata": {},
   "outputs": [],
   "source": []
  },
  {
   "cell_type": "markdown",
   "metadata": {},
   "source": [
    "## Using Image Folder Dataset"
   ]
  },
  {
   "cell_type": "code",
   "execution_count": 6,
   "metadata": {
    "pixiedust": {
     "displayParams": {}
    }
   },
   "outputs": [
    {
     "data": {
      "text/plain": [
       "Dataset ImageFolder\n",
       "    Number of datapoints: 139\n",
       "    Root Location: data/train/\n",
       "    Transforms (if any): None\n",
       "    Target Transforms (if any): None"
      ]
     },
     "execution_count": 6,
     "metadata": {},
     "output_type": "execute_result"
    }
   ],
   "source": [
    "folder_dataset = dset.ImageFolder(root=Config.training_dir)\n",
    "folder_dataset"
   ]
  },
  {
   "cell_type": "code",
   "execution_count": 7,
   "metadata": {},
   "outputs": [
    {
     "data": {
      "text/plain": [
       "('data/train/20\\\\BAB2142_T00238_2011_01_04_090191f6832d6190-1.Jpeg', 52)"
      ]
     },
     "execution_count": 7,
     "metadata": {},
     "output_type": "execute_result"
    }
   ],
   "source": [
    "random.choice(folder_dataset.imgs)"
   ]
  },
  {
   "cell_type": "code",
   "execution_count": 8,
   "metadata": {},
   "outputs": [],
   "source": [
    "# transforms.RandomAffine([5,7,10,13,15], translate=(5,15)),\n",
    "#transforms.RandomHorizontalFlip(p=0.5),"
   ]
  },
  {
   "cell_type": "code",
   "execution_count": 9,
   "metadata": {},
   "outputs": [],
   "source": [
    "siamese_dataset = SiameseNetworkDataset(imageFolderDataset=folder_dataset,\n",
    "                                        transform=transforms.Compose([transforms.Resize((229,229)),\n",
    "                                                                      transforms.ColorJitter(brightness=0.1,contrast=0.1),\n",
    "                                                                      transforms.Grayscale(num_output_channels=1),\n",
    "                                                                      \n",
    "                                                                      transforms.RandomRotation([5,75]),\n",
    "                                                                      transforms.ToTensor(dt)\n",
    "                                                                      ])\n",
    "                                       ,should_invert=False)"
   ]
  },
  {
   "cell_type": "markdown",
   "metadata": {},
   "source": [
    "## Visualising some of the data\n",
    "The top row and the bottom row of any column is one pair. The 0s and 1s correspond to the column of the image.\n",
    "1 indiciates dissimilar, and 0 indicates similar."
   ]
  },
  {
   "cell_type": "code",
   "execution_count": 10,
   "metadata": {},
   "outputs": [
    {
     "name": "stdout",
     "output_type": "stream",
     "text": [
      "ïmg 0 shape: torch.Size([1, 229, 229])\n",
      "ïmg 0 shape: torch.Size([1, 229, 229])\n",
      "ïmg 0 shape: torch.Size([1, 229, 229])\n",
      "ïmg 0 shape: torch.Size([1, 229, 229])\n",
      "ïmg 0 shape: torch.Size([1, 229, 229])\n",
      "ïmg 0 shape: torch.Size([1, 229, 229])\n",
      "ïmg 0 shape: torch.Size([1, 229, 229])\n",
      "ïmg 0 shape: torch.Size([1, 229, 229])\n"
     ]
    },
    {
     "data": {
      "image/png": "[encoded data removed]",
      "text/plain": [
       "<Figure size 432x288 with 1 Axes>"
      ]
     },
     "metadata": {
      "needs_background": "light"
     },
     "output_type": "display_data"
    },
    {
     "name": "stdout",
     "output_type": "stream",
     "text": [
      "[[1.]\n",
      " [0.]\n",
      " [1.]\n",
      " [1.]\n",
      " [1.]\n",
      " [1.]\n",
      " [1.]\n",
      " [1.]]\n"
     ]
    }
   ],
   "source": [
    "vis_dataloader = DataLoader(siamese_dataset,\n",
    "                        shuffle=True,\n",
    "                        num_workers=0,\n",
    "                        batch_size=8)\n",
    "dataiter = iter(vis_dataloader)\n",
    "\n",
    "\n",
    "example_batch = next(dataiter)\n",
    "concatenated = torch.cat((example_batch[0],example_batch[1]),0)\n",
    "imshow(torchvision.utils.make_grid(concatenated))\n",
    "print(example_batch[2].numpy())"
   ]
  },
  {
   "cell_type": "markdown",
   "metadata": {
    "collapsed": true
   },
   "source": [
    "## Neural Net Definition\n",
    "We will use a standard convolutional neural network"
   ]
  },
  {
   "cell_type": "code",
   "execution_count": 11,
   "metadata": {},
   "outputs": [],
   "source": [
    "class SiameseNetwork(nn.Module):\n",
    "    def __init__(self):\n",
    "        super(SiameseNetwork, self).__init__()\n",
    "        self.cnn1 = nn.Sequential(\n",
    "            nn.ReflectionPad2d(1),\n",
    "            nn.Conv2d(1, 4, kernel_size=3),\n",
    "            nn.ReLU(inplace=True),\n",
    "            nn.BatchNorm2d(4),\n",
    "            \n",
    "            nn.ReflectionPad2d(1),\n",
    "            nn.Conv2d(4, 8, kernel_size=3),\n",
    "            nn.ReLU(inplace=True),\n",
    "            nn.BatchNorm2d(8),\n",
    "\n",
    "\n",
    "            nn.ReflectionPad2d(1),\n",
    "            nn.Conv2d(8, 8, kernel_size=3),\n",
    "            nn.ReLU(inplace=True),\n",
    "            nn.BatchNorm2d(8),\n",
    "\n",
    "\n",
    "        )\n",
    "\n",
    "        self.fc1 = nn.Sequential(\n",
    "            nn.Linear(8*229*229, 500),\n",
    "            nn.ReLU(inplace=True),\n",
    "\n",
    "            nn.Linear(500, 500),\n",
    "            nn.ReLU(inplace=True),\n",
    "\n",
    "            nn.Linear(500, 5))\n",
    "\n",
    "    def forward_once(self, x):\n",
    "        output = self.cnn1(x)\n",
    "#         print(\"1: {0}\".format(output.shape))\n",
    "        output = output.view(output.size()[0], -1)\n",
    "#         print(\"2: {0}\".format(output.shape))\n",
    "        output = self.fc1(output)\n",
    "#         print(\"3: {0}\".format(output.shape))\n",
    "        return output\n",
    "\n",
    "    def forward(self, input1, input2):\n",
    "#         print(\"ïnput: {0}\".format(input1.shape))\n",
    "        output1 = self.forward_once(input1)\n",
    "        output2 = self.forward_once(input2)\n",
    "        return output1, output2"
   ]
  },
  {
   "cell_type": "markdown",
   "metadata": {},
   "source": [
    "## Contrastive Loss"
   ]
  },
  {
   "cell_type": "code",
   "execution_count": 12,
   "metadata": {},
   "outputs": [],
   "source": [
    "class ContrastiveLoss(torch.nn.Module):\n",
    "    \"\"\"\n",
    "    Contrastive loss function.\n",
    "    Based on: http://yann.lecun.com/exdb/publis/pdf/hadsell-chopra-lecun-06.pdf\n",
    "    \"\"\"\n",
    "\n",
    "    def __init__(self, margin=2.0):\n",
    "        super(ContrastiveLoss, self).__init__()\n",
    "        self.margin = margin\n",
    "\n",
    "    def forward(self, output1, output2, label):\n",
    "        euclidean_distance = F.pairwise_distance(output1, output2)\n",
    "        loss_contrastive = torch.mean((1-label) * torch.pow(euclidean_distance, 2) +\n",
    "                                      (label) * torch.pow(torch.clamp(self.margin - euclidean_distance, min=0.0), 2))\n",
    "\n",
    "\n",
    "        return loss_contrastive"
   ]
  },
  {
   "cell_type": "markdown",
   "metadata": {},
   "source": [
    "## Training Time!"
   ]
  },
  {
   "cell_type": "code",
   "execution_count": 13,
   "metadata": {},
   "outputs": [],
   "source": [
    "train_dataloader = DataLoader(siamese_dataset,\n",
    "                        shuffle=True,\n",
    "                        num_workers=0,\n",
    "                        batch_size=Config.train_batch_size)"
   ]
  },
  {
   "cell_type": "code",
   "execution_count": 14,
   "metadata": {},
   "outputs": [],
   "source": [
    "net = SiameseNetwork().cuda()\n",
    "criterion = ContrastiveLoss()\n",
    "optimizer = optim.Adam(net.parameters(),lr = 0.0005 )"
   ]
  },
  {
   "cell_type": "code",
   "execution_count": 15,
   "metadata": {},
   "outputs": [],
   "source": [
    "from torchsummary import summary\n",
    "# summary(net,(1,229,229))"
   ]
  },
  {
   "cell_type": "code",
   "execution_count": 16,
   "metadata": {},
   "outputs": [],
   "source": [
    "counter = []\n",
    "loss_history = [] \n",
    "iteration_number= 0"
   ]
  },
  {
   "cell_type": "code",
   "execution_count": 17,
   "metadata": {
    "scrolled": true
   },
   "outputs": [
    {
     "name": "stdout",
     "output_type": "stream",
     "text": [
      "ïmg 0 shape: torch.Size([1, 229, 229])\n",
      "ïmg 0 shape: torch.Size([1, 229, 229])\n",
      "ïmg 0 shape: torch.Size([1, 229, 229])\n",
      "ïmg 0 shape: torch.Size([1, 229, 229])\n",
      "ïmg 0 shape: torch.Size([1, 229, 229])\n",
      "ïmg 0 shape: torch.Size([1, 229, 229])\n",
      "ïmg 0 shape: torch.Size([1, 229, 229])\n",
      "ïmg 0 shape: torch.Size([1, 229, 229])\n",
      "ïmg 0 shape: torch.Size([1, 229, 229])\n",
      "ïmg 0 shape: torch.Size([1, 229, 229])\n",
      "ïmg 0 shape: torch.Size([1, 229, 229])\n",
      "ïmg 0 shape: torch.Size([1, 229, 229])\n",
      "ïmg 0 shape: torch.Size([1, 229, 229])\n",
      "ïmg 0 shape: torch.Size([1, 229, 229])\n",
      "ïmg 0 shape: torch.Size([1, 229, 229])\n",
      "ïmg 0 shape: torch.Size([1, 229, 229])\n",
      "In traing loop: torch.Size([16, 1, 229, 229])\n",
      "Epoch number 0\n",
      " Current loss 1.7593097686767578\n",
      "\n",
      "ïmg 0 shape: torch.Size([1, 229, 229])\n",
      "ïmg 0 shape: torch.Size([1, 229, 229])\n",
      "ïmg 0 shape: torch.Size([1, 229, 229])\n",
      "ïmg 0 shape: torch.Size([1, 229, 229])\n",
      "ïmg 0 shape: torch.Size([1, 229, 229])\n",
      "ïmg 0 shape: torch.Size([1, 229, 229])\n",
      "ïmg 0 shape: torch.Size([1, 229, 229])\n",
      "ïmg 0 shape: torch.Size([1, 229, 229])\n",
      "ïmg 0 shape: torch.Size([1, 229, 229])\n",
      "ïmg 0 shape: torch.Size([1, 229, 229])\n",
      "ïmg 0 shape: torch.Size([1, 229, 229])\n",
      "ïmg 0 shape: torch.Size([1, 229, 229])\n",
      "ïmg 0 shape: torch.Size([1, 229, 229])\n",
      "ïmg 0 shape: torch.Size([1, 229, 229])\n",
      "ïmg 0 shape: torch.Size([1, 229, 229])\n",
      "ïmg 0 shape: torch.Size([1, 229, 229])\n",
      "In traing loop: torch.Size([16, 1, 229, 229])\n",
      "ïmg 0 shape: torch.Size([1, 229, 229])\n",
      "ïmg 0 shape: torch.Size([1, 229, 229])\n",
      "ïmg 0 shape: torch.Size([1, 229, 229])\n",
      "ïmg 0 shape: torch.Size([1, 229, 229])\n",
      "ïmg 0 shape: torch.Size([1, 229, 229])\n",
      "ïmg 0 shape: torch.Size([1, 229, 229])\n",
      "ïmg 0 shape: torch.Size([1, 229, 229])\n",
      "ïmg 0 shape: torch.Size([1, 229, 229])\n",
      "ïmg 0 shape: torch.Size([1, 229, 229])\n",
      "ïmg 0 shape: torch.Size([1, 229, 229])\n",
      "ïmg 0 shape: torch.Size([1, 229, 229])\n",
      "ïmg 0 shape: torch.Size([1, 229, 229])\n",
      "ïmg 0 shape: torch.Size([1, 229, 229])\n",
      "ïmg 0 shape: torch.Size([1, 229, 229])\n",
      "ïmg 0 shape: torch.Size([1, 229, 229])\n",
      "ïmg 0 shape: torch.Size([1, 229, 229])\n",
      "In traing loop: torch.Size([16, 1, 229, 229])\n",
      "ïmg 0 shape: torch.Size([1, 229, 229])\n",
      "ïmg 0 shape: torch.Size([1, 229, 229])\n",
      "ïmg 0 shape: torch.Size([1, 229, 229])\n",
      "ïmg 0 shape: torch.Size([1, 229, 229])\n",
      "ïmg 0 shape: torch.Size([1, 229, 229])\n",
      "ïmg 0 shape: torch.Size([1, 229, 229])\n",
      "ïmg 0 shape: torch.Size([1, 229, 229])\n",
      "ïmg 0 shape: torch.Size([1, 229, 229])\n",
      "ïmg 0 shape: torch.Size([1, 229, 229])\n",
      "ïmg 0 shape: torch.Size([1, 229, 229])\n",
      "ïmg 0 shape: torch.Size([1, 229, 229])\n",
      "ïmg 0 shape: torch.Size([1, 229, 229])\n",
      "ïmg 0 shape: torch.Size([1, 229, 229])\n",
      "ïmg 0 shape: torch.Size([1, 229, 229])\n",
      "ïmg 0 shape: torch.Size([1, 229, 229])\n",
      "ïmg 0 shape: torch.Size([1, 229, 229])\n",
      "In traing loop: torch.Size([16, 1, 229, 229])\n",
      "ïmg 0 shape: torch.Size([1, 229, 229])\n",
      "ïmg 0 shape: torch.Size([1, 229, 229])\n",
      "ïmg 0 shape: torch.Size([1, 229, 229])\n",
      "ïmg 0 shape: torch.Size([1, 229, 229])\n",
      "ïmg 0 shape: torch.Size([1, 229, 229])\n",
      "ïmg 0 shape: torch.Size([1, 229, 229])\n",
      "ïmg 0 shape: torch.Size([1, 229, 229])\n",
      "ïmg 0 shape: torch.Size([1, 229, 229])\n",
      "ïmg 0 shape: torch.Size([1, 229, 229])\n",
      "ïmg 0 shape: torch.Size([1, 229, 229])\n",
      "ïmg 0 shape: torch.Size([1, 229, 229])\n",
      "ïmg 0 shape: torch.Size([1, 229, 229])\n",
      "ïmg 0 shape: torch.Size([1, 229, 229])\n",
      "ïmg 0 shape: torch.Size([1, 229, 229])\n",
      "ïmg 0 shape: torch.Size([1, 229, 229])\n",
      "ïmg 0 shape: torch.Size([1, 229, 229])\n",
      "In traing loop: torch.Size([16, 1, 229, 229])\n",
      "ïmg 0 shape: torch.Size([1, 229, 229])\n",
      "ïmg 0 shape: torch.Size([1, 229, 229])\n",
      "ïmg 0 shape: torch.Size([1, 229, 229])\n",
      "ïmg 0 shape: torch.Size([1, 229, 229])\n",
      "ïmg 0 shape: torch.Size([1, 229, 229])\n",
      "ïmg 0 shape: torch.Size([1, 229, 229])\n",
      "ïmg 0 shape: torch.Size([1, 229, 229])\n",
      "ïmg 0 shape: torch.Size([1, 229, 229])\n",
      "ïmg 0 shape: torch.Size([1, 229, 229])\n",
      "ïmg 0 shape: torch.Size([1, 229, 229])\n",
      "ïmg 0 shape: torch.Size([1, 229, 229])\n",
      "ïmg 0 shape: torch.Size([1, 229, 229])\n",
      "ïmg 0 shape: torch.Size([1, 229, 229])\n",
      "ïmg 0 shape: torch.Size([1, 229, 229])\n",
      "ïmg 0 shape: torch.Size([1, 229, 229])\n",
      "ïmg 0 shape: torch.Size([1, 229, 229])\n",
      "In traing loop: torch.Size([16, 1, 229, 229])\n",
      "ïmg 0 shape: torch.Size([1, 229, 229])\n",
      "ïmg 0 shape: torch.Size([1, 229, 229])\n",
      "ïmg 0 shape: torch.Size([1, 229, 229])\n",
      "ïmg 0 shape: torch.Size([1, 229, 229])\n",
      "ïmg 0 shape: torch.Size([1, 229, 229])\n",
      "ïmg 0 shape: torch.Size([1, 229, 229])\n",
      "ïmg 0 shape: torch.Size([1, 229, 229])\n",
      "ïmg 0 shape: torch.Size([1, 229, 229])\n",
      "ïmg 0 shape: torch.Size([1, 229, 229])\n",
      "ïmg 0 shape: torch.Size([1, 229, 229])\n",
      "ïmg 0 shape: torch.Size([1, 229, 229])\n",
      "ïmg 0 shape: torch.Size([1, 229, 229])\n",
      "ïmg 0 shape: torch.Size([1, 229, 229])\n",
      "ïmg 0 shape: torch.Size([1, 229, 229])\n",
      "ïmg 0 shape: torch.Size([1, 229, 229])\n",
      "ïmg 0 shape: torch.Size([1, 229, 229])\n",
      "In traing loop: torch.Size([16, 1, 229, 229])\n",
      "ïmg 0 shape: torch.Size([1, 229, 229])\n",
      "ïmg 0 shape: torch.Size([1, 229, 229])\n",
      "ïmg 0 shape: torch.Size([1, 229, 229])\n",
      "ïmg 0 shape: torch.Size([1, 229, 229])\n",
      "ïmg 0 shape: torch.Size([1, 229, 229])\n",
      "ïmg 0 shape: torch.Size([1, 229, 229])\n",
      "ïmg 0 shape: torch.Size([1, 229, 229])\n",
      "ïmg 0 shape: torch.Size([1, 229, 229])\n",
      "ïmg 0 shape: torch.Size([1, 229, 229])\n",
      "ïmg 0 shape: torch.Size([1, 229, 229])\n",
      "ïmg 0 shape: torch.Size([1, 229, 229])\n",
      "ïmg 0 shape: torch.Size([1, 229, 229])\n",
      "ïmg 0 shape: torch.Size([1, 229, 229])\n",
      "ïmg 0 shape: torch.Size([1, 229, 229])\n",
      "ïmg 0 shape: torch.Size([1, 229, 229])\n",
      "ïmg 0 shape: torch.Size([1, 229, 229])\n",
      "In traing loop: torch.Size([16, 1, 229, 229])\n",
      "ïmg 0 shape: torch.Size([1, 229, 229])\n",
      "ïmg 0 shape: torch.Size([1, 229, 229])\n",
      "ïmg 0 shape: torch.Size([1, 229, 229])\n",
      "ïmg 0 shape: torch.Size([1, 229, 229])\n",
      "ïmg 0 shape: torch.Size([1, 229, 229])\n",
      "ïmg 0 shape: torch.Size([1, 229, 229])\n",
      "ïmg 0 shape: torch.Size([1, 229, 229])\n",
      "ïmg 0 shape: torch.Size([1, 229, 229])\n",
      "ïmg 0 shape: torch.Size([1, 229, 229])\n",
      "ïmg 0 shape: torch.Size([1, 229, 229])\n",
      "ïmg 0 shape: torch.Size([1, 229, 229])\n",
      "In traing loop: torch.Size([11, 1, 229, 229])\n",
      "ïmg 0 shape: torch.Size([1, 229, 229])\n",
      "ïmg 0 shape: torch.Size([1, 229, 229])\n",
      "ïmg 0 shape: torch.Size([1, 229, 229])\n",
      "ïmg 0 shape: torch.Size([1, 229, 229])\n",
      "ïmg 0 shape: torch.Size([1, 229, 229])\n",
      "ïmg 0 shape: torch.Size([1, 229, 229])\n",
      "ïmg 0 shape: torch.Size([1, 229, 229])\n",
      "ïmg 0 shape: torch.Size([1, 229, 229])\n",
      "ïmg 0 shape: torch.Size([1, 229, 229])\n",
      "ïmg 0 shape: torch.Size([1, 229, 229])\n",
      "ïmg 0 shape: torch.Size([1, 229, 229])\n",
      "ïmg 0 shape: torch.Size([1, 229, 229])\n",
      "ïmg 0 shape: torch.Size([1, 229, 229])\n",
      "ïmg 0 shape: torch.Size([1, 229, 229])\n",
      "ïmg 0 shape: torch.Size([1, 229, 229])\n",
      "ïmg 0 shape: torch.Size([1, 229, 229])\n",
      "In traing loop: torch.Size([16, 1, 229, 229])\n",
      "Epoch number 1\n",
      " Current loss 11.6256742477417\n",
      "\n",
      "ïmg 0 shape: torch.Size([1, 229, 229])\n",
      "ïmg 0 shape: torch.Size([1, 229, 229])\n",
      "ïmg 0 shape: torch.Size([1, 229, 229])\n",
      "ïmg 0 shape: torch.Size([1, 229, 229])\n",
      "ïmg 0 shape: torch.Size([1, 229, 229])\n",
      "ïmg 0 shape: torch.Size([1, 229, 229])\n",
      "ïmg 0 shape: torch.Size([1, 229, 229])\n",
      "ïmg 0 shape: torch.Size([1, 229, 229])\n",
      "ïmg 0 shape: torch.Size([1, 229, 229])\n",
      "ïmg 0 shape: torch.Size([1, 229, 229])\n",
      "ïmg 0 shape: torch.Size([1, 229, 229])\n",
      "ïmg 0 shape: torch.Size([1, 229, 229])\n",
      "ïmg 0 shape: torch.Size([1, 229, 229])\n",
      "ïmg 0 shape: torch.Size([1, 229, 229])\n",
      "ïmg 0 shape: torch.Size([1, 229, 229])\n",
      "ïmg 0 shape: torch.Size([1, 229, 229])\n",
      "In traing loop: torch.Size([16, 1, 229, 229])\n",
      "ïmg 0 shape: torch.Size([1, 229, 229])\n",
      "ïmg 0 shape: torch.Size([1, 229, 229])\n",
      "ïmg 0 shape: torch.Size([1, 229, 229])\n",
      "ïmg 0 shape: torch.Size([1, 229, 229])\n",
      "ïmg 0 shape: torch.Size([1, 229, 229])\n",
      "ïmg 0 shape: torch.Size([1, 229, 229])\n",
      "ïmg 0 shape: torch.Size([1, 229, 229])\n",
      "ïmg 0 shape: torch.Size([1, 229, 229])\n",
      "ïmg 0 shape: torch.Size([1, 229, 229])\n",
      "ïmg 0 shape: torch.Size([1, 229, 229])\n",
      "ïmg 0 shape: torch.Size([1, 229, 229])\n",
      "ïmg 0 shape: torch.Size([1, 229, 229])\n",
      "ïmg 0 shape: torch.Size([1, 229, 229])\n",
      "ïmg 0 shape: torch.Size([1, 229, 229])\n",
      "ïmg 0 shape: torch.Size([1, 229, 229])\n",
      "ïmg 0 shape: torch.Size([1, 229, 229])\n",
      "In traing loop: torch.Size([16, 1, 229, 229])\n",
      "ïmg 0 shape: torch.Size([1, 229, 229])\n",
      "ïmg 0 shape: torch.Size([1, 229, 229])\n",
      "ïmg 0 shape: torch.Size([1, 229, 229])\n",
      "ïmg 0 shape: torch.Size([1, 229, 229])\n",
      "ïmg 0 shape: torch.Size([1, 229, 229])\n",
      "ïmg 0 shape: torch.Size([1, 229, 229])\n",
      "ïmg 0 shape: torch.Size([1, 229, 229])\n",
      "ïmg 0 shape: torch.Size([1, 229, 229])\n",
      "ïmg 0 shape: torch.Size([1, 229, 229])\n"
     ]
    },
    {
     "ename": "KeyboardInterrupt",
     "evalue": "",
     "output_type": "error",
     "traceback": [
      "\u001b[1;31m---------------------------------------------------------------------------\u001b[0m",
      "\u001b[1;31mKeyboardInterrupt\u001b[0m                         Traceback (most recent call last)",
      "\u001b[1;32m<ipython-input-17-117c4dd832ba>\u001b[0m in \u001b[0;36m<module>\u001b[1;34m\u001b[0m\n\u001b[0;32m      1\u001b[0m \u001b[1;32mfor\u001b[0m \u001b[0mepoch\u001b[0m \u001b[1;32min\u001b[0m \u001b[0mrange\u001b[0m\u001b[1;33m(\u001b[0m\u001b[1;36m0\u001b[0m\u001b[1;33m,\u001b[0m\u001b[0mConfig\u001b[0m\u001b[1;33m.\u001b[0m\u001b[0mtrain_number_epochs\u001b[0m\u001b[1;33m)\u001b[0m\u001b[1;33m:\u001b[0m\u001b[1;33m\u001b[0m\u001b[1;33m\u001b[0m\u001b[0m\n\u001b[1;32m----> 2\u001b[1;33m     \u001b[1;32mfor\u001b[0m \u001b[0mi\u001b[0m\u001b[1;33m,\u001b[0m \u001b[0mdata\u001b[0m \u001b[1;32min\u001b[0m \u001b[0menumerate\u001b[0m\u001b[1;33m(\u001b[0m\u001b[0mtrain_dataloader\u001b[0m\u001b[1;33m,\u001b[0m\u001b[1;36m0\u001b[0m\u001b[1;33m)\u001b[0m\u001b[1;33m:\u001b[0m\u001b[1;33m\u001b[0m\u001b[1;33m\u001b[0m\u001b[0m\n\u001b[0m\u001b[0;32m      3\u001b[0m         \u001b[0mimg0\u001b[0m\u001b[1;33m,\u001b[0m \u001b[0mimg1\u001b[0m \u001b[1;33m,\u001b[0m \u001b[0mlabel\u001b[0m \u001b[1;33m=\u001b[0m \u001b[0mdata\u001b[0m\u001b[1;33m\u001b[0m\u001b[1;33m\u001b[0m\u001b[0m\n\u001b[0;32m      4\u001b[0m         \u001b[0mimg0\u001b[0m\u001b[1;33m,\u001b[0m \u001b[0mimg1\u001b[0m \u001b[1;33m,\u001b[0m \u001b[0mlabel\u001b[0m \u001b[1;33m=\u001b[0m \u001b[0mimg0\u001b[0m\u001b[1;33m.\u001b[0m\u001b[0mcuda\u001b[0m\u001b[1;33m(\u001b[0m\u001b[1;33m)\u001b[0m\u001b[1;33m,\u001b[0m \u001b[0mimg1\u001b[0m\u001b[1;33m.\u001b[0m\u001b[0mcuda\u001b[0m\u001b[1;33m(\u001b[0m\u001b[1;33m)\u001b[0m \u001b[1;33m,\u001b[0m \u001b[0mlabel\u001b[0m\u001b[1;33m.\u001b[0m\u001b[0mcuda\u001b[0m\u001b[1;33m(\u001b[0m\u001b[1;33m)\u001b[0m\u001b[1;33m\u001b[0m\u001b[1;33m\u001b[0m\u001b[0m\n\u001b[0;32m      5\u001b[0m \u001b[1;33m\u001b[0m\u001b[0m\n",
      "\u001b[1;32m~\\Miniconda3\\envs\\py36\\lib\\site-packages\\torch\\utils\\data\\dataloader.py\u001b[0m in \u001b[0;36m__next__\u001b[1;34m(self)\u001b[0m\n\u001b[0;32m    613\u001b[0m         \u001b[1;32mif\u001b[0m \u001b[0mself\u001b[0m\u001b[1;33m.\u001b[0m\u001b[0mnum_workers\u001b[0m \u001b[1;33m==\u001b[0m \u001b[1;36m0\u001b[0m\u001b[1;33m:\u001b[0m  \u001b[1;31m# same-process loading\u001b[0m\u001b[1;33m\u001b[0m\u001b[1;33m\u001b[0m\u001b[0m\n\u001b[0;32m    614\u001b[0m             \u001b[0mindices\u001b[0m \u001b[1;33m=\u001b[0m \u001b[0mnext\u001b[0m\u001b[1;33m(\u001b[0m\u001b[0mself\u001b[0m\u001b[1;33m.\u001b[0m\u001b[0msample_iter\u001b[0m\u001b[1;33m)\u001b[0m  \u001b[1;31m# may raise StopIteration\u001b[0m\u001b[1;33m\u001b[0m\u001b[1;33m\u001b[0m\u001b[0m\n\u001b[1;32m--> 615\u001b[1;33m             \u001b[0mbatch\u001b[0m \u001b[1;33m=\u001b[0m \u001b[0mself\u001b[0m\u001b[1;33m.\u001b[0m\u001b[0mcollate_fn\u001b[0m\u001b[1;33m(\u001b[0m\u001b[1;33m[\u001b[0m\u001b[0mself\u001b[0m\u001b[1;33m.\u001b[0m\u001b[0mdataset\u001b[0m\u001b[1;33m[\u001b[0m\u001b[0mi\u001b[0m\u001b[1;33m]\u001b[0m \u001b[1;32mfor\u001b[0m \u001b[0mi\u001b[0m \u001b[1;32min\u001b[0m \u001b[0mindices\u001b[0m\u001b[1;33m]\u001b[0m\u001b[1;33m)\u001b[0m\u001b[1;33m\u001b[0m\u001b[1;33m\u001b[0m\u001b[0m\n\u001b[0m\u001b[0;32m    616\u001b[0m             \u001b[1;32mif\u001b[0m \u001b[0mself\u001b[0m\u001b[1;33m.\u001b[0m\u001b[0mpin_memory\u001b[0m\u001b[1;33m:\u001b[0m\u001b[1;33m\u001b[0m\u001b[1;33m\u001b[0m\u001b[0m\n\u001b[0;32m    617\u001b[0m                 \u001b[0mbatch\u001b[0m \u001b[1;33m=\u001b[0m \u001b[0mpin_memory_batch\u001b[0m\u001b[1;33m(\u001b[0m\u001b[0mbatch\u001b[0m\u001b[1;33m)\u001b[0m\u001b[1;33m\u001b[0m\u001b[1;33m\u001b[0m\u001b[0m\n",
      "\u001b[1;32m~\\Miniconda3\\envs\\py36\\lib\\site-packages\\torch\\utils\\data\\dataloader.py\u001b[0m in \u001b[0;36m<listcomp>\u001b[1;34m(.0)\u001b[0m\n\u001b[0;32m    613\u001b[0m         \u001b[1;32mif\u001b[0m \u001b[0mself\u001b[0m\u001b[1;33m.\u001b[0m\u001b[0mnum_workers\u001b[0m \u001b[1;33m==\u001b[0m \u001b[1;36m0\u001b[0m\u001b[1;33m:\u001b[0m  \u001b[1;31m# same-process loading\u001b[0m\u001b[1;33m\u001b[0m\u001b[1;33m\u001b[0m\u001b[0m\n\u001b[0;32m    614\u001b[0m             \u001b[0mindices\u001b[0m \u001b[1;33m=\u001b[0m \u001b[0mnext\u001b[0m\u001b[1;33m(\u001b[0m\u001b[0mself\u001b[0m\u001b[1;33m.\u001b[0m\u001b[0msample_iter\u001b[0m\u001b[1;33m)\u001b[0m  \u001b[1;31m# may raise StopIteration\u001b[0m\u001b[1;33m\u001b[0m\u001b[1;33m\u001b[0m\u001b[0m\n\u001b[1;32m--> 615\u001b[1;33m             \u001b[0mbatch\u001b[0m \u001b[1;33m=\u001b[0m \u001b[0mself\u001b[0m\u001b[1;33m.\u001b[0m\u001b[0mcollate_fn\u001b[0m\u001b[1;33m(\u001b[0m\u001b[1;33m[\u001b[0m\u001b[0mself\u001b[0m\u001b[1;33m.\u001b[0m\u001b[0mdataset\u001b[0m\u001b[1;33m[\u001b[0m\u001b[0mi\u001b[0m\u001b[1;33m]\u001b[0m \u001b[1;32mfor\u001b[0m \u001b[0mi\u001b[0m \u001b[1;32min\u001b[0m \u001b[0mindices\u001b[0m\u001b[1;33m]\u001b[0m\u001b[1;33m)\u001b[0m\u001b[1;33m\u001b[0m\u001b[1;33m\u001b[0m\u001b[0m\n\u001b[0m\u001b[0;32m    616\u001b[0m             \u001b[1;32mif\u001b[0m \u001b[0mself\u001b[0m\u001b[1;33m.\u001b[0m\u001b[0mpin_memory\u001b[0m\u001b[1;33m:\u001b[0m\u001b[1;33m\u001b[0m\u001b[1;33m\u001b[0m\u001b[0m\n\u001b[0;32m    617\u001b[0m                 \u001b[0mbatch\u001b[0m \u001b[1;33m=\u001b[0m \u001b[0mpin_memory_batch\u001b[0m\u001b[1;33m(\u001b[0m\u001b[0mbatch\u001b[0m\u001b[1;33m)\u001b[0m\u001b[1;33m\u001b[0m\u001b[1;33m\u001b[0m\u001b[0m\n",
      "\u001b[1;32m<ipython-input-5-169fa8c7d69b>\u001b[0m in \u001b[0;36m__getitem__\u001b[1;34m(self, index)\u001b[0m\n\u001b[0;32m     33\u001b[0m         \u001b[0mimg0\u001b[0m \u001b[1;33m=\u001b[0m \u001b[0mImage\u001b[0m\u001b[1;33m.\u001b[0m\u001b[0mopen\u001b[0m\u001b[1;33m(\u001b[0m\u001b[0mimg0_tuple\u001b[0m\u001b[1;33m[\u001b[0m\u001b[1;36m0\u001b[0m\u001b[1;33m]\u001b[0m\u001b[1;33m)\u001b[0m\u001b[1;33m\u001b[0m\u001b[1;33m\u001b[0m\u001b[0m\n\u001b[0;32m     34\u001b[0m         \u001b[0mimg1\u001b[0m \u001b[1;33m=\u001b[0m \u001b[0mImage\u001b[0m\u001b[1;33m.\u001b[0m\u001b[0mopen\u001b[0m\u001b[1;33m(\u001b[0m\u001b[0mimg1_tuple\u001b[0m\u001b[1;33m[\u001b[0m\u001b[1;36m0\u001b[0m\u001b[1;33m]\u001b[0m\u001b[1;33m)\u001b[0m\u001b[1;33m\u001b[0m\u001b[1;33m\u001b[0m\u001b[0m\n\u001b[1;32m---> 35\u001b[1;33m         \u001b[0mimg0\u001b[0m \u001b[1;33m=\u001b[0m \u001b[0mimg0\u001b[0m\u001b[1;33m.\u001b[0m\u001b[0mconvert\u001b[0m\u001b[1;33m(\u001b[0m\u001b[1;34m\"L\"\u001b[0m\u001b[1;33m)\u001b[0m\u001b[1;33m\u001b[0m\u001b[1;33m\u001b[0m\u001b[0m\n\u001b[0m\u001b[0;32m     36\u001b[0m         \u001b[0mimg1\u001b[0m \u001b[1;33m=\u001b[0m \u001b[0mimg1\u001b[0m\u001b[1;33m.\u001b[0m\u001b[0mconvert\u001b[0m\u001b[1;33m(\u001b[0m\u001b[1;34m\"L\"\u001b[0m\u001b[1;33m)\u001b[0m\u001b[1;33m\u001b[0m\u001b[1;33m\u001b[0m\u001b[0m\n\u001b[0;32m     37\u001b[0m \u001b[1;33m\u001b[0m\u001b[0m\n",
      "\u001b[1;32m~\\AppData\\Roaming\\Python\\Python36\\site-packages\\PIL\\Image.py\u001b[0m in \u001b[0;36mconvert\u001b[1;34m(self, mode, matrix, dither, palette, colors)\u001b[0m\n\u001b[0;32m    913\u001b[0m         \"\"\"\n\u001b[0;32m    914\u001b[0m \u001b[1;33m\u001b[0m\u001b[0m\n\u001b[1;32m--> 915\u001b[1;33m         \u001b[0mself\u001b[0m\u001b[1;33m.\u001b[0m\u001b[0mload\u001b[0m\u001b[1;33m(\u001b[0m\u001b[1;33m)\u001b[0m\u001b[1;33m\u001b[0m\u001b[1;33m\u001b[0m\u001b[0m\n\u001b[0m\u001b[0;32m    916\u001b[0m \u001b[1;33m\u001b[0m\u001b[0m\n\u001b[0;32m    917\u001b[0m         \u001b[1;32mif\u001b[0m \u001b[1;32mnot\u001b[0m \u001b[0mmode\u001b[0m \u001b[1;32mand\u001b[0m \u001b[0mself\u001b[0m\u001b[1;33m.\u001b[0m\u001b[0mmode\u001b[0m \u001b[1;33m==\u001b[0m \u001b[1;34m\"P\"\u001b[0m\u001b[1;33m:\u001b[0m\u001b[1;33m\u001b[0m\u001b[1;33m\u001b[0m\u001b[0m\n",
      "\u001b[1;32m~\\AppData\\Roaming\\Python\\Python36\\site-packages\\PIL\\ImageFile.py\u001b[0m in \u001b[0;36mload\u001b[1;34m(self)\u001b[0m\n\u001b[0;32m    239\u001b[0m \u001b[1;33m\u001b[0m\u001b[0m\n\u001b[0;32m    240\u001b[0m                             \u001b[0mb\u001b[0m \u001b[1;33m=\u001b[0m \u001b[0mb\u001b[0m \u001b[1;33m+\u001b[0m \u001b[0ms\u001b[0m\u001b[1;33m\u001b[0m\u001b[1;33m\u001b[0m\u001b[0m\n\u001b[1;32m--> 241\u001b[1;33m                             \u001b[0mn\u001b[0m\u001b[1;33m,\u001b[0m \u001b[0merr_code\u001b[0m \u001b[1;33m=\u001b[0m \u001b[0mdecoder\u001b[0m\u001b[1;33m.\u001b[0m\u001b[0mdecode\u001b[0m\u001b[1;33m(\u001b[0m\u001b[0mb\u001b[0m\u001b[1;33m)\u001b[0m\u001b[1;33m\u001b[0m\u001b[1;33m\u001b[0m\u001b[0m\n\u001b[0m\u001b[0;32m    242\u001b[0m                             \u001b[1;32mif\u001b[0m \u001b[0mn\u001b[0m \u001b[1;33m<\u001b[0m \u001b[1;36m0\u001b[0m\u001b[1;33m:\u001b[0m\u001b[1;33m\u001b[0m\u001b[1;33m\u001b[0m\u001b[0m\n\u001b[0;32m    243\u001b[0m                                 \u001b[1;32mbreak\u001b[0m\u001b[1;33m\u001b[0m\u001b[1;33m\u001b[0m\u001b[0m\n",
      "\u001b[1;31mKeyboardInterrupt\u001b[0m: "
     ]
    }
   ],
   "source": [
    "for epoch in range(0,Config.train_number_epochs):\n",
    "    for i, data in enumerate(train_dataloader,0):\n",
    "        img0, img1 , label = data\n",
    "        img0, img1 , label = img0.cuda(), img1.cuda() , label.cuda()\n",
    "        \n",
    "        print(\"In traing loop: {0}\".format(img0.shape))\n",
    "        optimizer.zero_grad()\n",
    "        output1,output2 = net(img0,img1)\n",
    "        loss_contrastive = criterion(output1,output2,label)\n",
    "        loss_contrastive.backward()\n",
    "        optimizer.step()\n",
    "        if i %10 == 0 :\n",
    "            print(\"Epoch number {}\\n Current loss {}\\n\".format(epoch,loss_contrastive.item()))\n",
    "            iteration_number +=10\n",
    "            counter.append(iteration_number)\n",
    "            loss_history.append(loss_contrastive.item())\n",
    "show_plot(counter,loss_history)"
   ]
  },
  {
   "cell_type": "markdown",
   "metadata": {},
   "source": [
    "## Some simple testing\n",
    "The last 3 subjects were held out from the training, and will be used to test. The Distance between each image pair denotes the degree of similarity the model found between the two images. Less means it found more similar, while higher values indicate it found them to be dissimilar."
   ]
  },
  {
   "cell_type": "code",
   "execution_count": null,
   "metadata": {
    "run_control": {
     "marked": true
    }
   },
   "outputs": [],
   "source": [
    "folder_dataset_test = dset.ImageFolder(root=Config.testing_dir)\n",
    "siamese_dataset = SiameseNetworkDataset(imageFolderDataset=folder_dataset_test,\n",
    "                                        transform=transforms.Compose([transforms.Resize((229,229)),\n",
    "                                                                      \n",
    "                                                                      transforms.Grayscale(num_output_channels=1),\n",
    "                                                                      transforms.RandomRotation([5,75]),\n",
    "                                                                      transforms.ToTensor()\n",
    "                                                                      ])\n",
    "                                       ,should_invert=False,\n",
    "                                        is_test=True,\n",
    "                                       pick_similar_samples=True)\n",
    "\n",
    "test_dataloader = DataLoader(siamese_dataset,num_workers=0,batch_size=1,shuffle=True)\n",
    "dataiter = iter(test_dataloader)\n",
    "#x0,_,_ = next(dataiter)\n",
    "\n",
    "for i in range(10):\n",
    "    x0,x1,label2 = next(dataiter)\n",
    "    concatenated = torch.cat((x0,x1),0)\n",
    "    \n",
    "    output1,output2 = net(Variable(x0).cuda(),Variable(x1).cuda())\n",
    "    euclidean_distance = F.pairwise_distance(output1, output2)\n",
    "    imshow(torchvision.utils.make_grid(concatenated),'Dissimilarity: {:.2f}'.format(euclidean_distance.item()))\n",
    "\n"
   ]
  },
  {
   "cell_type": "code",
   "execution_count": null,
   "metadata": {},
   "outputs": [],
   "source": [
    "folder_dataset_test = dset.ImageFolder(root=Config.testing_dir)\n",
    "siamese_dataset = SiameseNetworkDataset(imageFolderDataset=folder_dataset_test,\n",
    "                                        transform=transforms.Compose([transforms.Resize((229,229)),\n",
    "                                                                      \n",
    "                                                                      transforms.Grayscale(num_output_channels=1),\n",
    "                                                                      transforms.RandomRotation([5,75]),\n",
    "                                                                      transforms.ToTensor()\n",
    "                                                                      ])\n",
    "                                       ,should_invert=False,\n",
    "                                        is_test=True,\n",
    "                                       pick_similar_samples=False)\n",
    "\n",
    "test_dataloader = DataLoader(siamese_dataset,num_workers=0,batch_size=1,shuffle=True)\n",
    "dataiter = iter(test_dataloader)\n",
    "#x0,_,_ = next(dataiter)\n",
    "\n",
    "for i in range(10):\n",
    "    x0,x1,label2 = next(dataiter)\n",
    "    concatenated = torch.cat((x0,x1),0)\n",
    "    \n",
    "    output1,output2 = net(Variable(x0).cuda(),Variable(x1).cuda())\n",
    "    euclidean_distance = F.pairwise_distance(output1, output2)\n",
    "    imshow(torchvision.utils.make_grid(concatenated),'Dissimilarity: {:.2f}'.format(euclidean_distance.item()))\n"
   ]
  },
  {
   "cell_type": "code",
   "execution_count": null,
   "metadata": {},
   "outputs": [],
   "source": []
  },
  {
   "cell_type": "code",
   "execution_count": null,
   "metadata": {},
   "outputs": [],
   "source": []
  },
  {
   "cell_type": "code",
   "execution_count": null,
   "metadata": {},
   "outputs": [],
   "source": []
  },
  {
   "cell_type": "code",
   "execution_count": null,
   "metadata": {},
   "outputs": [],
   "source": []
  }
 ],
 "metadata": {
  "hide_input": false,
  "kernelspec": {
   "display_name": "Python 3",
   "language": "python",
   "name": "python3"
  },
  "language_info": {
   "codemirror_mode": {
    "name": "ipython",
    "version": 3
   },
   "file_extension": ".py",
   "mimetype": "text/x-python",
   "name": "python",
   "nbconvert_exporter": "python",
   "pygments_lexer": "ipython3",
   "version": "3.6.8"
  }
 },
 "nbformat": 4,
 "nbformat_minor": 2
}
